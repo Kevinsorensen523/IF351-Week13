{
 "cells": [
  {
   "cell_type": "code",
   "execution_count": 3,
   "id": "522c65a9",
   "metadata": {},
   "outputs": [],
   "source": [
    "import mysql.connector\n",
    "import pandas as pd\n",
    "import seaborn as sns\n",
    "import matplotlib.pyplot as plt\n",
    "plt.style.use('seaborn')\n",
    "pd.set_option('display.max_columns', None)\n",
    "pd.options.display.max_colwidth = 200\n",
    "\n",
    "# silahkan diinstall jika ada library yang belum terinstall"
   ]
  },
  {
   "cell_type": "code",
   "execution_count": 4,
   "id": "022f5fd0",
   "metadata": {},
   "outputs": [],
   "source": [
    "mydb = mysql.connector.connect(\n",
    "    host = 'localhost',\n",
    "    user = 'root',\n",
    "    passwd = '',\n",
    "    database = 'week13_db'\n",
    ")\n",
    "\n",
    "# disesuaikan dengan user dan password SQL masing masing "
   ]
  },
  {
   "cell_type": "code",
   "execution_count": 5,
   "id": "8fbde319",
   "metadata": {},
   "outputs": [],
   "source": [
    "mycursor = mydb.cursor()\n",
    "\n",
    "# create function\n",
    "def sql(yourQuery):\n",
    "    mycursor.execute(yourQuery)\n",
    "    myresult = mycursor.fetchall()\n",
    "    df = pd.DataFrame(myresult, columns = mycursor.column_names)\n",
    "    return df"
   ]
  },
  {
   "cell_type": "code",
   "execution_count": 6,
   "id": "7f1e4705",
   "metadata": {},
   "outputs": [
    {
     "data": {
      "text/html": [
       "<div>\n",
       "<style scoped>\n",
       "    .dataframe tbody tr th:only-of-type {\n",
       "        vertical-align: middle;\n",
       "    }\n",
       "\n",
       "    .dataframe tbody tr th {\n",
       "        vertical-align: top;\n",
       "    }\n",
       "\n",
       "    .dataframe thead th {\n",
       "        text-align: right;\n",
       "    }\n",
       "</style>\n",
       "<table border=\"1\" class=\"dataframe\">\n",
       "  <thead>\n",
       "    <tr style=\"text-align: right;\">\n",
       "      <th></th>\n",
       "      <th>id</th>\n",
       "      <th>name</th>\n",
       "      <th>product</th>\n",
       "      <th>quantity</th>\n",
       "      <th>sales_date</th>\n",
       "    </tr>\n",
       "  </thead>\n",
       "  <tbody>\n",
       "    <tr>\n",
       "      <th>0</th>\n",
       "      <td>1</td>\n",
       "      <td>Jackson</td>\n",
       "      <td>Keyboard</td>\n",
       "      <td>4</td>\n",
       "      <td>2021-01-01</td>\n",
       "    </tr>\n",
       "    <tr>\n",
       "      <th>1</th>\n",
       "      <td>2</td>\n",
       "      <td>Louis</td>\n",
       "      <td>Keyboard</td>\n",
       "      <td>2</td>\n",
       "      <td>2021-01-01</td>\n",
       "    </tr>\n",
       "    <tr>\n",
       "      <th>2</th>\n",
       "      <td>3</td>\n",
       "      <td>Kevin</td>\n",
       "      <td>Printer</td>\n",
       "      <td>8</td>\n",
       "      <td>2021-01-01</td>\n",
       "    </tr>\n",
       "    <tr>\n",
       "      <th>3</th>\n",
       "      <td>4</td>\n",
       "      <td>Louis</td>\n",
       "      <td>Smartphone</td>\n",
       "      <td>1</td>\n",
       "      <td>2021-01-01</td>\n",
       "    </tr>\n",
       "    <tr>\n",
       "      <th>4</th>\n",
       "      <td>5</td>\n",
       "      <td>Jackson</td>\n",
       "      <td>Smartphone</td>\n",
       "      <td>9</td>\n",
       "      <td>2021-01-01</td>\n",
       "    </tr>\n",
       "    <tr>\n",
       "      <th>...</th>\n",
       "      <td>...</td>\n",
       "      <td>...</td>\n",
       "      <td>...</td>\n",
       "      <td>...</td>\n",
       "      <td>...</td>\n",
       "    </tr>\n",
       "    <tr>\n",
       "      <th>3261</th>\n",
       "      <td>3262</td>\n",
       "      <td>Rich</td>\n",
       "      <td>Tablet</td>\n",
       "      <td>9</td>\n",
       "      <td>2023-12-30</td>\n",
       "    </tr>\n",
       "    <tr>\n",
       "      <th>3262</th>\n",
       "      <td>3263</td>\n",
       "      <td>Kevin</td>\n",
       "      <td>Keyboard</td>\n",
       "      <td>5</td>\n",
       "      <td>2023-12-30</td>\n",
       "    </tr>\n",
       "    <tr>\n",
       "      <th>3263</th>\n",
       "      <td>3264</td>\n",
       "      <td>Rich</td>\n",
       "      <td>Tablet</td>\n",
       "      <td>4</td>\n",
       "      <td>2023-12-30</td>\n",
       "    </tr>\n",
       "    <tr>\n",
       "      <th>3264</th>\n",
       "      <td>3265</td>\n",
       "      <td>Rich</td>\n",
       "      <td>Monitor</td>\n",
       "      <td>6</td>\n",
       "      <td>2023-12-31</td>\n",
       "    </tr>\n",
       "    <tr>\n",
       "      <th>3265</th>\n",
       "      <td>3266</td>\n",
       "      <td>Steven</td>\n",
       "      <td>Keyboard</td>\n",
       "      <td>2</td>\n",
       "      <td>2023-12-31</td>\n",
       "    </tr>\n",
       "  </tbody>\n",
       "</table>\n",
       "<p>3266 rows × 5 columns</p>\n",
       "</div>"
      ],
      "text/plain": [
       "        id     name     product  quantity  sales_date\n",
       "0        1  Jackson    Keyboard         4  2021-01-01\n",
       "1        2    Louis    Keyboard         2  2021-01-01\n",
       "2        3    Kevin     Printer         8  2021-01-01\n",
       "3        4    Louis  Smartphone         1  2021-01-01\n",
       "4        5  Jackson  Smartphone         9  2021-01-01\n",
       "...    ...      ...         ...       ...         ...\n",
       "3261  3262     Rich      Tablet         9  2023-12-30\n",
       "3262  3263    Kevin    Keyboard         5  2023-12-30\n",
       "3263  3264     Rich      Tablet         4  2023-12-30\n",
       "3264  3265     Rich     Monitor         6  2023-12-31\n",
       "3265  3266   Steven    Keyboard         2  2023-12-31\n",
       "\n",
       "[3266 rows x 5 columns]"
      ]
     },
     "execution_count": 6,
     "metadata": {},
     "output_type": "execute_result"
    }
   ],
   "source": [
    "# trying function\n",
    "sql(\n",
    "    '''\n",
    "    SELECT *\n",
    "    FROM sales;\n",
    "    '''\n",
    ")"
   ]
  },
  {
   "cell_type": "code",
   "execution_count": 24,
   "id": "1a1fab4e",
   "metadata": {},
   "outputs": [
    {
     "name": "stdout",
     "output_type": "stream",
     "text": [
      "        product  year month_text total_quantity\n",
      "0    Smartphone  2021    January             98\n",
      "1       Monitor  2021    January             81\n",
      "2        Tablet  2021    January             65\n",
      "3      Keyboard  2021    January             83\n",
      "4         Mouse  2021    January             65\n",
      "..          ...   ...        ...            ...\n",
      "247     Printer  2023   December             68\n",
      "248  Smartphone  2023   December             66\n",
      "249      Laptop  2023   December             47\n",
      "250     Monitor  2023   December             54\n",
      "251    Keyboard  2023   December             64\n",
      "\n",
      "[252 rows x 4 columns]\n"
     ]
    }
   ],
   "source": [
    "def monthly_sales():\n",
    "    query = '''\n",
    "    SELECT \n",
    "        product,\n",
    "        EXTRACT(YEAR FROM sales_date) AS year,\n",
    "        DATE_FORMAT(sales_date, '%M') AS month_text,\n",
    "        SUM(quantity) AS total_quantity\n",
    "    FROM sales\n",
    "    GROUP BY product, year, EXTRACT(MONTH FROM sales_date), DATE_FORMAT(sales_date, '%M')\n",
    "    ORDER BY year, EXTRACT(MONTH FROM sales_date);\n",
    "    '''\n",
    "    return sql(query)\n",
    "\n",
    "df_monthly_sales = monthly_sales()\n",
    "print(df_monthly_sales)"
   ]
  },
  {
   "cell_type": "code",
   "execution_count": 21,
   "id": "148060d7",
   "metadata": {},
   "outputs": [
    {
     "data": {
      "application/vnd.jupyter.widget-view+json": {
       "model_id": "661b7dd32b87406ca4ebf28af4df7499",
       "version_major": 2,
       "version_minor": 0
      },
      "text/plain": [
       "HBox(children=(Dropdown(description='Product:', options=('All', 'Keyboard', 'Laptop', 'Monitor', 'Mouse', 'Pri…"
      ]
     },
     "metadata": {},
     "output_type": "display_data"
    },
    {
     "data": {
      "application/vnd.jupyter.widget-view+json": {
       "model_id": "5828283977bc471d8d87e5363f6d9172",
       "version_major": 2,
       "version_minor": 0
      },
      "text/plain": [
       "Output()"
      ]
     },
     "metadata": {},
     "output_type": "display_data"
    }
   ],
   "source": [
    "import matplotlib.pyplot as plt\n",
    "import pandas as pd\n",
    "import ipywidgets as widgets\n",
    "from IPython.display import display\n",
    "\n",
    "# Fetch data if not loaded\n",
    "df_sales = monthly_sales()\n",
    "\n",
    "def plot_sales(p, y, m):\n",
    "    df = df_sales.copy()\n",
    "    if p != 'All': df = df[df['product'] == p]\n",
    "    if y != 'All': df = df[df['year'] == int(y)]\n",
    "    if m != 'All': df = df[df['month'] == int(m)]\n",
    "    \n",
    "    if df.empty:\n",
    "        print(\"No data available for selected filters.\")\n",
    "        return\n",
    "    \n",
    "    df['date'] = pd.to_datetime(df['year'].astype(str) + '-' + df['month'].astype(str))\n",
    "    plt.figure(figsize=(10, 5))\n",
    "    for key, grp in df.groupby('product'):\n",
    "        plt.plot(grp['date'], grp['total_quantity'], label=key, marker='o')\n",
    "    \n",
    "    plt.title('Monthly Sales by Product')\n",
    "    plt.xlabel('Date')\n",
    "    plt.ylabel('Total Quantity')\n",
    "    plt.grid(True)\n",
    "    plt.legend(title='Product')\n",
    "    plt.xticks(rotation=45)\n",
    "    plt.tight_layout()\n",
    "    plt.show()\n",
    "\n",
    "# Widgets\n",
    "p_w = widgets.Dropdown(options=['All'] + sorted(df_sales['product'].unique()), description='Product:', value='All')\n",
    "y_w = widgets.Dropdown(options=['All'] + sorted(df_sales['year'].astype(str).unique()), description='Year:', value='All')\n",
    "m_w = widgets.Dropdown(options=['All'] + sorted(df_sales['month'].astype(str).unique()), description='Month:', value='All')\n",
    "\n",
    "# Widget interaction setup\n",
    "ui = widgets.HBox([p_w, y_w, m_w])\n",
    "out = widgets.interactive_output(plot_sales, {'p': p_w, 'y': y_w, 'm': m_w})\n",
    "\n",
    "# Display the interface\n",
    "display(ui, out)"
   ]
  },
  {
   "cell_type": "code",
   "execution_count": 27,
   "id": "5a61c99d",
   "metadata": {},
   "outputs": [
    {
     "data": {
      "application/vnd.jupyter.widget-view+json": {
       "model_id": "a4a087dab81d48dfbbd28dcc773dc51a",
       "version_major": 2,
       "version_minor": 0
      },
      "text/plain": [
       "Dropdown(description='Product:', options=('All', 'Keyboard', 'Laptop', 'Monitor', 'Mouse', 'Printer', 'Smartph…"
      ]
     },
     "metadata": {},
     "output_type": "display_data"
    },
    {
     "data": {
      "application/vnd.jupyter.widget-view+json": {
       "model_id": "ea754e397b6042dfb3f0de65f60aee68",
       "version_major": 2,
       "version_minor": 0
      },
      "text/plain": [
       "Output()"
      ]
     },
     "metadata": {},
     "output_type": "display_data"
    }
   ],
   "source": [
    "import matplotlib.pyplot as plt\n",
    "import pandas as pd\n",
    "import numpy as np\n",
    "from sklearn.linear_model import LinearRegression\n",
    "import ipywidgets as widgets\n",
    "from IPython.display import display\n",
    "from datetime import datetime, timedelta\n",
    "import warnings\n",
    "\n",
    "warnings.filterwarnings('ignore')\n",
    "\n",
    "def plot_sales_with_forecast(p):\n",
    "    df = df_sales.copy()\n",
    "    if p != 'All':\n",
    "        df = df[df['product'] == p]\n",
    "    \n",
    "    if df.empty:\n",
    "        print(\"No data available for selected filters.\")\n",
    "        return\n",
    "    \n",
    "    # Convert year and month into a datetime for plotting and modeling\n",
    "    df['date'] = pd.to_datetime(df['year'].astype(str) + '-' + df['month'].astype(str))\n",
    "    plt.figure(figsize=(12, 6))\n",
    "    \n",
    "    # Prepare the data for the regression model\n",
    "    df['date_ordinal'] = df['date'].apply(lambda x: x.toordinal())\n",
    "    \n",
    "    # Fit the regression model\n",
    "    if not df['product'].empty:\n",
    "        X = df[['date_ordinal']]\n",
    "        y = df['total_quantity']\n",
    "        model = LinearRegression().fit(X, y)\n",
    "        \n",
    "        # Predict for 2024\n",
    "        future_dates = pd.date_range('2024-01-01', '2024-12-01', freq='MS')\n",
    "        future_dates_ordinal = [d.toordinal() for d in future_dates]\n",
    "        future_preds = model.predict(np.array(future_dates_ordinal).reshape(-1,1))\n",
    "        \n",
    "        # Plot historical data\n",
    "        plt.plot(df['date'], df['total_quantity'], label=f\"{p} Actual\", marker='o')\n",
    "        # Plot predictions\n",
    "        plt.plot(future_dates, future_preds, label=f\"{p} Forecast\", linestyle='--')\n",
    "    \n",
    "    plt.title(f'Monthly Sales Forecast for 2024 - {p}')\n",
    "    plt.xlabel('Date')\n",
    "    plt.ylabel('Total Quantity')\n",
    "    plt.legend()\n",
    "    plt.grid(True)\n",
    "    plt.xticks(rotation=45)\n",
    "    plt.tight_layout()\n",
    "    plt.show()\n",
    "\n",
    "# Widgets for product filtering\n",
    "product_widget = widgets.Dropdown(options=['All'] + sorted(df_sales['product'].unique()), description='Product:', value='All')\n",
    "# Widget interaction setup\n",
    "out = widgets.interactive_output(plot_sales_with_forecast, {'p': product_widget})\n",
    "# Display the interface\n",
    "display(product_widget, out)"
   ]
  },
  {
   "cell_type": "code",
   "execution_count": null,
   "id": "d510bc83",
   "metadata": {},
   "outputs": [],
   "source": [
    "# "
   ]
  }
 ],
 "metadata": {
  "kernelspec": {
   "display_name": "Python 3 (ipykernel)",
   "language": "python",
   "name": "python3"
  },
  "language_info": {
   "codemirror_mode": {
    "name": "ipython",
    "version": 3
   },
   "file_extension": ".py",
   "mimetype": "text/x-python",
   "name": "python",
   "nbconvert_exporter": "python",
   "pygments_lexer": "ipython3",
   "version": "3.10.3"
  }
 },
 "nbformat": 4,
 "nbformat_minor": 5
}
